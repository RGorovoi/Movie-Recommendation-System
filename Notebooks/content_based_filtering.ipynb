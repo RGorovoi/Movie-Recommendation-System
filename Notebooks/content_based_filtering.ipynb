{
 "cells": [
  {
   "cell_type": "code",
   "execution_count": 29,
   "id": "ae596ab7-89d2-4088-86b5-073c18ba7ea5",
   "metadata": {},
   "outputs": [],
   "source": [
    "# Import libraries\n",
    "import pandas as pd\n",
    "import numpy as np\n",
    "from sklearn.feature_extraction.text import TfidfVectorizer\n",
    "# https://scikit-learn.org/stable/modules/generated/sklearn.feature_extraction.text.TfidfVectorizer.html\n",
    "\n",
    "from sklearn.metrics.pairwise import cosine_similarity"
   ]
  },
  {
   "cell_type": "code",
   "execution_count": 3,
   "id": "fb8016f6-4c63-46b2-ab58-9bcdcd52f77e",
   "metadata": {},
   "outputs": [],
   "source": [
    "# Load dataset\n",
    "df = pd.read_csv(\"../Data/clean_parsed_tmdb_5000.csv\")"
   ]
  },
  {
   "cell_type": "code",
   "execution_count": 8,
   "id": "c36f29d7-b5ef-4dec-903d-d2e3bc66db86",
   "metadata": {},
   "outputs": [
    {
     "data": {
      "text/html": [
       "<div>\n",
       "<style scoped>\n",
       "    .dataframe tbody tr th:only-of-type {\n",
       "        vertical-align: middle;\n",
       "    }\n",
       "\n",
       "    .dataframe tbody tr th {\n",
       "        vertical-align: top;\n",
       "    }\n",
       "\n",
       "    .dataframe thead th {\n",
       "        text-align: right;\n",
       "    }\n",
       "</style>\n",
       "<table border=\"1\" class=\"dataframe\">\n",
       "  <thead>\n",
       "    <tr style=\"text-align: right;\">\n",
       "      <th></th>\n",
       "      <th>budget</th>\n",
       "      <th>genres</th>\n",
       "      <th>homepage</th>\n",
       "      <th>keywords</th>\n",
       "      <th>original_language</th>\n",
       "      <th>overview</th>\n",
       "      <th>popularity</th>\n",
       "      <th>production_companies</th>\n",
       "      <th>production_countries</th>\n",
       "      <th>release_date</th>\n",
       "      <th>revenue</th>\n",
       "      <th>runtime</th>\n",
       "      <th>spoken_languages</th>\n",
       "      <th>status</th>\n",
       "      <th>tagline</th>\n",
       "      <th>title</th>\n",
       "      <th>vote_average</th>\n",
       "      <th>vote_count</th>\n",
       "      <th>cast</th>\n",
       "      <th>crew</th>\n",
       "    </tr>\n",
       "  </thead>\n",
       "  <tbody>\n",
       "    <tr>\n",
       "      <th>0</th>\n",
       "      <td>237000000</td>\n",
       "      <td>Action, Adventure, Fantasy, Science Fiction</td>\n",
       "      <td>http://www.avatarmovie.com/</td>\n",
       "      <td>culture clash, future, space war, space colony...</td>\n",
       "      <td>en</td>\n",
       "      <td>In the 22nd century, a paraplegic Marine is di...</td>\n",
       "      <td>150.437577</td>\n",
       "      <td>Ingenious Film Partners, Twentieth Century Fox...</td>\n",
       "      <td>United States of America, United Kingdom</td>\n",
       "      <td>2009-12-10</td>\n",
       "      <td>2787965087</td>\n",
       "      <td>162.0</td>\n",
       "      <td>English, Español</td>\n",
       "      <td>Released</td>\n",
       "      <td>Enter the World of Pandora.</td>\n",
       "      <td>Avatar</td>\n",
       "      <td>7.2</td>\n",
       "      <td>11800</td>\n",
       "      <td>Sam Worthington, Zoe Saldana, Sigourney Weaver...</td>\n",
       "      <td>Stephen E. Rivkin (Editor), Rick Carter (Produ...</td>\n",
       "    </tr>\n",
       "    <tr>\n",
       "      <th>1</th>\n",
       "      <td>300000000</td>\n",
       "      <td>Adventure, Fantasy, Action</td>\n",
       "      <td>http://disney.go.com/disneypictures/pirates/</td>\n",
       "      <td>ocean, drug abuse, exotic island, east india t...</td>\n",
       "      <td>en</td>\n",
       "      <td>Captain Barbossa, long believed to be dead, ha...</td>\n",
       "      <td>139.082615</td>\n",
       "      <td>Walt Disney Pictures, Jerry Bruckheimer Films,...</td>\n",
       "      <td>United States of America</td>\n",
       "      <td>2007-05-19</td>\n",
       "      <td>961000000</td>\n",
       "      <td>169.0</td>\n",
       "      <td>English</td>\n",
       "      <td>Released</td>\n",
       "      <td>At the end of the world, the adventure begins.</td>\n",
       "      <td>Pirates of the Caribbean: At World's End</td>\n",
       "      <td>6.9</td>\n",
       "      <td>4500</td>\n",
       "      <td>Johnny Depp, Orlando Bloom, Keira Knightley, S...</td>\n",
       "      <td>Dariusz Wolski (Director of Photography), Gore...</td>\n",
       "    </tr>\n",
       "    <tr>\n",
       "      <th>2</th>\n",
       "      <td>245000000</td>\n",
       "      <td>Action, Adventure, Crime</td>\n",
       "      <td>http://www.sonypictures.com/movies/spectre/</td>\n",
       "      <td>spy, based on novel, secret agent, sequel, mi6...</td>\n",
       "      <td>en</td>\n",
       "      <td>A cryptic message from Bond’s past sends him o...</td>\n",
       "      <td>107.376788</td>\n",
       "      <td>Columbia Pictures, Danjaq, B24</td>\n",
       "      <td>United Kingdom, United States of America</td>\n",
       "      <td>2015-10-26</td>\n",
       "      <td>880674609</td>\n",
       "      <td>148.0</td>\n",
       "      <td>Français, English, Español, Italiano, Deutsch</td>\n",
       "      <td>Released</td>\n",
       "      <td>A Plan No One Escapes</td>\n",
       "      <td>Spectre</td>\n",
       "      <td>6.3</td>\n",
       "      <td>4466</td>\n",
       "      <td>Daniel Craig, Christoph Waltz, Léa Seydoux, Ra...</td>\n",
       "      <td>Thomas Newman (Original Music Composer), Sam M...</td>\n",
       "    </tr>\n",
       "    <tr>\n",
       "      <th>3</th>\n",
       "      <td>250000000</td>\n",
       "      <td>Action, Crime, Drama, Thriller</td>\n",
       "      <td>http://www.thedarkknightrises.com/</td>\n",
       "      <td>dc comics, crime fighter, terrorist, secret id...</td>\n",
       "      <td>en</td>\n",
       "      <td>Following the death of District Attorney Harve...</td>\n",
       "      <td>112.312950</td>\n",
       "      <td>Legendary Pictures, Warner Bros., DC Entertain...</td>\n",
       "      <td>United States of America</td>\n",
       "      <td>2012-07-16</td>\n",
       "      <td>1084939099</td>\n",
       "      <td>165.0</td>\n",
       "      <td>English</td>\n",
       "      <td>Released</td>\n",
       "      <td>The Legend Ends</td>\n",
       "      <td>The Dark Knight Rises</td>\n",
       "      <td>7.6</td>\n",
       "      <td>9106</td>\n",
       "      <td>Christian Bale, Michael Caine, Gary Oldman, An...</td>\n",
       "      <td>Hans Zimmer (Original Music Composer), Charles...</td>\n",
       "    </tr>\n",
       "    <tr>\n",
       "      <th>4</th>\n",
       "      <td>260000000</td>\n",
       "      <td>Action, Adventure, Science Fiction</td>\n",
       "      <td>http://movies.disney.com/john-carter</td>\n",
       "      <td>based on novel, mars, medallion, space travel,...</td>\n",
       "      <td>en</td>\n",
       "      <td>John Carter is a war-weary, former military ca...</td>\n",
       "      <td>43.926995</td>\n",
       "      <td>Walt Disney Pictures</td>\n",
       "      <td>United States of America</td>\n",
       "      <td>2012-03-07</td>\n",
       "      <td>284139100</td>\n",
       "      <td>132.0</td>\n",
       "      <td>English</td>\n",
       "      <td>Released</td>\n",
       "      <td>Lost in our world, found in another.</td>\n",
       "      <td>John Carter</td>\n",
       "      <td>6.1</td>\n",
       "      <td>2124</td>\n",
       "      <td>Taylor Kitsch, Lynn Collins, Samantha Morton, ...</td>\n",
       "      <td>Andrew Stanton (Screenplay), Andrew Stanton (D...</td>\n",
       "    </tr>\n",
       "  </tbody>\n",
       "</table>\n",
       "</div>"
      ],
      "text/plain": [
       "      budget                                       genres  \\\n",
       "0  237000000  Action, Adventure, Fantasy, Science Fiction   \n",
       "1  300000000                   Adventure, Fantasy, Action   \n",
       "2  245000000                     Action, Adventure, Crime   \n",
       "3  250000000               Action, Crime, Drama, Thriller   \n",
       "4  260000000           Action, Adventure, Science Fiction   \n",
       "\n",
       "                                       homepage  \\\n",
       "0                   http://www.avatarmovie.com/   \n",
       "1  http://disney.go.com/disneypictures/pirates/   \n",
       "2   http://www.sonypictures.com/movies/spectre/   \n",
       "3            http://www.thedarkknightrises.com/   \n",
       "4          http://movies.disney.com/john-carter   \n",
       "\n",
       "                                            keywords original_language  \\\n",
       "0  culture clash, future, space war, space colony...                en   \n",
       "1  ocean, drug abuse, exotic island, east india t...                en   \n",
       "2  spy, based on novel, secret agent, sequel, mi6...                en   \n",
       "3  dc comics, crime fighter, terrorist, secret id...                en   \n",
       "4  based on novel, mars, medallion, space travel,...                en   \n",
       "\n",
       "                                            overview  popularity  \\\n",
       "0  In the 22nd century, a paraplegic Marine is di...  150.437577   \n",
       "1  Captain Barbossa, long believed to be dead, ha...  139.082615   \n",
       "2  A cryptic message from Bond’s past sends him o...  107.376788   \n",
       "3  Following the death of District Attorney Harve...  112.312950   \n",
       "4  John Carter is a war-weary, former military ca...   43.926995   \n",
       "\n",
       "                                production_companies  \\\n",
       "0  Ingenious Film Partners, Twentieth Century Fox...   \n",
       "1  Walt Disney Pictures, Jerry Bruckheimer Films,...   \n",
       "2                     Columbia Pictures, Danjaq, B24   \n",
       "3  Legendary Pictures, Warner Bros., DC Entertain...   \n",
       "4                               Walt Disney Pictures   \n",
       "\n",
       "                       production_countries release_date     revenue  runtime  \\\n",
       "0  United States of America, United Kingdom   2009-12-10  2787965087    162.0   \n",
       "1                  United States of America   2007-05-19   961000000    169.0   \n",
       "2  United Kingdom, United States of America   2015-10-26   880674609    148.0   \n",
       "3                  United States of America   2012-07-16  1084939099    165.0   \n",
       "4                  United States of America   2012-03-07   284139100    132.0   \n",
       "\n",
       "                                spoken_languages    status  \\\n",
       "0                               English, Español  Released   \n",
       "1                                        English  Released   \n",
       "2  Français, English, Español, Italiano, Deutsch  Released   \n",
       "3                                        English  Released   \n",
       "4                                        English  Released   \n",
       "\n",
       "                                          tagline  \\\n",
       "0                     Enter the World of Pandora.   \n",
       "1  At the end of the world, the adventure begins.   \n",
       "2                           A Plan No One Escapes   \n",
       "3                                 The Legend Ends   \n",
       "4            Lost in our world, found in another.   \n",
       "\n",
       "                                      title  vote_average  vote_count  \\\n",
       "0                                    Avatar           7.2       11800   \n",
       "1  Pirates of the Caribbean: At World's End           6.9        4500   \n",
       "2                                   Spectre           6.3        4466   \n",
       "3                     The Dark Knight Rises           7.6        9106   \n",
       "4                               John Carter           6.1        2124   \n",
       "\n",
       "                                                cast  \\\n",
       "0  Sam Worthington, Zoe Saldana, Sigourney Weaver...   \n",
       "1  Johnny Depp, Orlando Bloom, Keira Knightley, S...   \n",
       "2  Daniel Craig, Christoph Waltz, Léa Seydoux, Ra...   \n",
       "3  Christian Bale, Michael Caine, Gary Oldman, An...   \n",
       "4  Taylor Kitsch, Lynn Collins, Samantha Morton, ...   \n",
       "\n",
       "                                                crew  \n",
       "0  Stephen E. Rivkin (Editor), Rick Carter (Produ...  \n",
       "1  Dariusz Wolski (Director of Photography), Gore...  \n",
       "2  Thomas Newman (Original Music Composer), Sam M...  \n",
       "3  Hans Zimmer (Original Music Composer), Charles...  \n",
       "4  Andrew Stanton (Screenplay), Andrew Stanton (D...  "
      ]
     },
     "execution_count": 8,
     "metadata": {},
     "output_type": "execute_result"
    }
   ],
   "source": [
    "df.head()"
   ]
  },
  {
   "cell_type": "code",
   "execution_count": 9,
   "id": "c3acdce5-896e-4d68-bb48-a33e785522e7",
   "metadata": {
    "scrolled": true
   },
   "outputs": [
    {
     "name": "stdout",
     "output_type": "stream",
     "text": [
      "<class 'pandas.core.frame.DataFrame'>\n",
      "RangeIndex: 4802 entries, 0 to 4801\n",
      "Data columns (total 20 columns):\n",
      " #   Column                Non-Null Count  Dtype  \n",
      "---  ------                --------------  -----  \n",
      " 0   budget                4802 non-null   int64  \n",
      " 1   genres                4775 non-null   object \n",
      " 2   homepage              1712 non-null   object \n",
      " 3   keywords              4391 non-null   object \n",
      " 4   original_language     4802 non-null   object \n",
      " 5   overview              4799 non-null   object \n",
      " 6   popularity            4802 non-null   float64\n",
      " 7   production_companies  4452 non-null   object \n",
      " 8   production_countries  4629 non-null   object \n",
      " 9   release_date          4802 non-null   object \n",
      " 10  revenue               4802 non-null   int64  \n",
      " 11  runtime               4802 non-null   float64\n",
      " 12  spoken_languages      4716 non-null   object \n",
      " 13  status                4802 non-null   object \n",
      " 14  tagline               3959 non-null   object \n",
      " 15  title                 4802 non-null   object \n",
      " 16  vote_average          4802 non-null   float64\n",
      " 17  vote_count            4802 non-null   int64  \n",
      " 18  cast                  4760 non-null   object \n",
      " 19  crew                  4775 non-null   object \n",
      "dtypes: float64(3), int64(3), object(14)\n",
      "memory usage: 750.4+ KB\n"
     ]
    }
   ],
   "source": [
    "df.info()"
   ]
  },
  {
   "cell_type": "code",
   "execution_count": 13,
   "id": "25f8347c-d1b9-4995-ba1f-821371377a5b",
   "metadata": {},
   "outputs": [],
   "source": [
    "# Combine all content into a single text field\n",
    "df[\"combined_content\"] = (\n",
    "    df[\"genres\"].astype(str) + \" \" +\n",
    "    df[\"keywords\"].astype(str) + \" \" +\n",
    "    df[\"overview\"].astype(str) + \" \" +\n",
    "    df[\"production_companies\"].astype(str) + \" \" +\n",
    "    df[\"tagline\"].astype(str) + \" \" +\n",
    "    df[\"cast\"].astype(str) + \" \" +\n",
    "    df[\"crew\"].astype(str)\n",
    ")"
   ]
  },
  {
   "cell_type": "code",
   "execution_count": 21,
   "id": "564d8ccd-eff4-4459-8599-5c9894aeaefe",
   "metadata": {},
   "outputs": [],
   "source": [
    "# Convert everything to lowercase\n",
    "df[\"combined_content\"] = df[\"combined_content\"].astype(str).str.lower()\n",
    "\n",
    "# Replace anything that's not a letter or number with whitespace\n",
    "df[\"combined_content\"] = df[\"combined_content\"].str.replace(r'[^\\w\\s]', '', regex=True)\n",
    "\n",
    "# Strip trailing whitespace\n",
    "df[\"combined_content\"] = df[\"combined_content\"].str.strip()"
   ]
  },
  {
   "cell_type": "code",
   "execution_count": 23,
   "id": "44a85c51-b215-4645-88cf-6caba7ed0179",
   "metadata": {},
   "outputs": [
    {
     "data": {
      "text/plain": [
       "0       action adventure fantasy science fiction cultu...\n",
       "1       adventure fantasy action ocean drug abuse exot...\n",
       "2       action adventure crime spy based on novel secr...\n",
       "3       action crime drama thriller dc comics crime fi...\n",
       "4       action adventure science fiction based on nove...\n",
       "                              ...                        \n",
       "4797    action crime thriller united statesmexico barr...\n",
       "4798    comedy romance nan a newlywed couples honeymoo...\n",
       "4799    comedy drama romance tv movie date love at fir...\n",
       "4800    nan nan when ambitious new york attorney sam i...\n",
       "4801    documentary obsession camcorder crush dream gi...\n",
       "Name: combined_content, Length: 4802, dtype: object"
      ]
     },
     "execution_count": 23,
     "metadata": {},
     "output_type": "execute_result"
    }
   ],
   "source": [
    "df[\"combined_content\"]"
   ]
  },
  {
   "cell_type": "code",
   "execution_count": 25,
   "id": "ef958cda-6733-4122-b751-52ee0a6da994",
   "metadata": {},
   "outputs": [],
   "source": [
    "vectorizer = TfidfVectorizer(stop_words='english', max_features=5000)"
   ]
  },
  {
   "cell_type": "code",
   "execution_count": 27,
   "id": "abf92345-b952-4474-90ff-1d5c58dc2892",
   "metadata": {},
   "outputs": [],
   "source": [
    "# Create a matrix by fitting the TF-IDF model\n",
    "tfidf_matrix = vectorizer.fit_transform(df[\"combined_content\"])"
   ]
  },
  {
   "cell_type": "code",
   "execution_count": 31,
   "id": "f37b87dc-0b8c-4bff-8d76-63f5fa68d531",
   "metadata": {},
   "outputs": [
    {
     "data": {
      "text/plain": [
       "<Compressed Sparse Row sparse matrix of dtype 'float64'\n",
       "\twith 443871 stored elements and shape (4802, 5000)>"
      ]
     },
     "execution_count": 31,
     "metadata": {},
     "output_type": "execute_result"
    }
   ],
   "source": [
    "tfidf_matrix"
   ]
  },
  {
   "cell_type": "code",
   "execution_count": 30,
   "id": "b03597ac-21d0-48d7-a033-28f144b8d327",
   "metadata": {},
   "outputs": [],
   "source": [
    "similarity_matrix = cosine_similarity(tfidf_matrix)"
   ]
  },
  {
   "cell_type": "code",
   "execution_count": 32,
   "id": "0f2cc676-65b7-458f-af6b-dedd96e3836b",
   "metadata": {},
   "outputs": [
    {
     "data": {
      "text/plain": [
       "array([[1.        , 0.19578554, 0.66291794, ..., 0.04589267, 0.01466897,\n",
       "        0.02389071],\n",
       "       [0.19578554, 1.        , 0.15682752, ..., 0.07075526, 0.01271746,\n",
       "        0.02324541],\n",
       "       [0.66291794, 0.15682752, 1.        , ..., 0.05500419, 0.04229058,\n",
       "        0.01561895],\n",
       "       ...,\n",
       "       [0.04589267, 0.07075526, 0.05500419, ..., 1.        , 0.03705502,\n",
       "        0.04878338],\n",
       "       [0.01466897, 0.01271746, 0.04229058, ..., 0.03705502, 1.        ,\n",
       "        0.02449469],\n",
       "       [0.02389071, 0.02324541, 0.01561895, ..., 0.04878338, 0.02449469,\n",
       "        1.        ]], shape=(4802, 4802))"
      ]
     },
     "execution_count": 32,
     "metadata": {},
     "output_type": "execute_result"
    }
   ],
   "source": [
    "similarity_matrix"
   ]
  },
  {
   "cell_type": "code",
   "execution_count": 33,
   "id": "ac65b699-f706-4a28-a368-1d32570d8f81",
   "metadata": {},
   "outputs": [
    {
     "data": {
      "text/plain": [
       "(4802, 4802)"
      ]
     },
     "execution_count": 33,
     "metadata": {},
     "output_type": "execute_result"
    }
   ],
   "source": [
    "similarity_matrix.shape"
   ]
  },
  {
   "cell_type": "code",
   "execution_count": 52,
   "id": "a4b6d966-7c1f-4a18-af61-12225c07481a",
   "metadata": {},
   "outputs": [],
   "source": [
    "movie_index = df[df['title'] == 'Superman'].index[0]"
   ]
  },
  {
   "cell_type": "code",
   "execution_count": 53,
   "id": "c2c765db-3b42-4531-be5a-0b066e584283",
   "metadata": {},
   "outputs": [],
   "source": [
    "# Compute similarity to chosen movie\n",
    "scores = similarity_matrix[movie_index]\n"
   ]
  },
  {
   "cell_type": "code",
   "execution_count": 54,
   "id": "287c4622-dc57-49ef-a083-ad9acdd5b1b2",
   "metadata": {},
   "outputs": [
    {
     "data": {
      "text/plain": [
       "array([0.05735164, 0.10487115, 0.06439599, ..., 0.06275975, 0.03348045,\n",
       "       0.06614791], shape=(4802,))"
      ]
     },
     "execution_count": 54,
     "metadata": {},
     "output_type": "execute_result"
    }
   ],
   "source": [
    "scores"
   ]
  },
  {
   "cell_type": "code",
   "execution_count": 55,
   "id": "29754767-534b-40d0-aec2-44952c00040d",
   "metadata": {},
   "outputs": [],
   "source": [
    "# Find the indices 10 most similar movies\n",
    "similar_indices = scores.argsort()[::-1][1:11]"
   ]
  },
  {
   "cell_type": "code",
   "execution_count": 56,
   "id": "6e9e3668-4bc6-482e-924c-dec01f308d2b",
   "metadata": {},
   "outputs": [
    {
     "data": {
      "text/plain": [
       "array([ 870, 2433, 1296,   10,   14,  511,   65, 1359, 1720,    9])"
      ]
     },
     "execution_count": 56,
     "metadata": {},
     "output_type": "execute_result"
    }
   ],
   "source": [
    "similar_indices"
   ]
  },
  {
   "cell_type": "code",
   "execution_count": 57,
   "id": "5368cf90-777e-497a-95c0-d0815977c54f",
   "metadata": {},
   "outputs": [
    {
     "data": {
      "text/plain": [
       "870                            Superman II\n",
       "2433      Superman IV: The Quest for Peace\n",
       "1296                          Superman III\n",
       "10                        Superman Returns\n",
       "14                            Man of Steel\n",
       "511                                  X-Men\n",
       "65                         The Dark Knight\n",
       "1359                                Batman\n",
       "1720                              Kick-Ass\n",
       "9       Batman v Superman: Dawn of Justice\n",
       "Name: title, dtype: object"
      ]
     },
     "execution_count": 57,
     "metadata": {},
     "output_type": "execute_result"
    }
   ],
   "source": [
    "# Display the most similar movies\n",
    "df['title'].iloc[similar_indices]"
   ]
  }
 ],
 "metadata": {
  "kernelspec": {
   "display_name": "Python (ml)",
   "language": "python",
   "name": "ml"
  },
  "language_info": {
   "codemirror_mode": {
    "name": "ipython",
    "version": 3
   },
   "file_extension": ".py",
   "mimetype": "text/x-python",
   "name": "python",
   "nbconvert_exporter": "python",
   "pygments_lexer": "ipython3",
   "version": "3.13.7"
  }
 },
 "nbformat": 4,
 "nbformat_minor": 5
}
